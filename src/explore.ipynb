{
    "cells": [
        {
            "cell_type": "markdown",
            "metadata": {},
            "source": [
                "# Explore here"
            ]
        },
        {
            "cell_type": "code",
            "execution_count": 70,
            "metadata": {},
            "outputs": [
                {
                    "name": "stdout",
                    "output_type": "stream",
                    "text": [
                        "Requirement already satisfied: missingno in /home/gitpod/.pyenv/versions/3.12.4/lib/python3.12/site-packages (0.5.2)\n",
                        "Requirement already satisfied: lazypredict in /home/gitpod/.pyenv/versions/3.12.4/lib/python3.12/site-packages (0.2.12)\n",
                        "Requirement already satisfied: numpy in /workspace/.pyenv_mirror/user/current/lib/python3.12/site-packages (from missingno) (2.1.0)\n",
                        "Requirement already satisfied: matplotlib in /workspace/.pyenv_mirror/user/current/lib/python3.12/site-packages (from missingno) (3.9.2)\n",
                        "Requirement already satisfied: scipy in /workspace/.pyenv_mirror/user/current/lib/python3.12/site-packages (from missingno) (1.14.1)\n",
                        "Requirement already satisfied: seaborn in /workspace/.pyenv_mirror/user/current/lib/python3.12/site-packages (from missingno) (0.13.2)\n",
                        "Requirement already satisfied: click in /home/gitpod/.pyenv/versions/3.12.4/lib/python3.12/site-packages (from lazypredict) (8.1.7)\n",
                        "Requirement already satisfied: scikit-learn in /workspace/.pyenv_mirror/user/current/lib/python3.12/site-packages (from lazypredict) (1.5.1)\n",
                        "Requirement already satisfied: pandas in /workspace/.pyenv_mirror/user/current/lib/python3.12/site-packages (from lazypredict) (2.2.2)\n",
                        "Requirement already satisfied: tqdm in /home/gitpod/.pyenv/versions/3.12.4/lib/python3.12/site-packages (from lazypredict) (4.66.5)\n",
                        "Requirement already satisfied: joblib in /workspace/.pyenv_mirror/user/current/lib/python3.12/site-packages (from lazypredict) (1.4.2)\n",
                        "Requirement already satisfied: lightgbm in /home/gitpod/.pyenv/versions/3.12.4/lib/python3.12/site-packages (from lazypredict) (4.5.0)\n",
                        "Requirement already satisfied: xgboost in /workspace/.pyenv_mirror/user/current/lib/python3.12/site-packages (from lazypredict) (2.1.1)\n",
                        "Requirement already satisfied: contourpy>=1.0.1 in /workspace/.pyenv_mirror/user/current/lib/python3.12/site-packages (from matplotlib->missingno) (1.2.1)\n",
                        "Requirement already satisfied: cycler>=0.10 in /workspace/.pyenv_mirror/user/current/lib/python3.12/site-packages (from matplotlib->missingno) (0.12.1)\n",
                        "Requirement already satisfied: fonttools>=4.22.0 in /workspace/.pyenv_mirror/user/current/lib/python3.12/site-packages (from matplotlib->missingno) (4.53.1)\n",
                        "Requirement already satisfied: kiwisolver>=1.3.1 in /workspace/.pyenv_mirror/user/current/lib/python3.12/site-packages (from matplotlib->missingno) (1.4.5)\n",
                        "Requirement already satisfied: packaging>=20.0 in /home/gitpod/.pyenv/versions/3.12.4/lib/python3.12/site-packages (from matplotlib->missingno) (24.1)\n",
                        "Requirement already satisfied: pillow>=8 in /workspace/.pyenv_mirror/user/current/lib/python3.12/site-packages (from matplotlib->missingno) (10.4.0)\n",
                        "Requirement already satisfied: pyparsing>=2.3.1 in /workspace/.pyenv_mirror/user/current/lib/python3.12/site-packages (from matplotlib->missingno) (3.1.2)\n",
                        "Requirement already satisfied: python-dateutil>=2.7 in /home/gitpod/.pyenv/versions/3.12.4/lib/python3.12/site-packages (from matplotlib->missingno) (2.9.0.post0)\n",
                        "Requirement already satisfied: pytz>=2020.1 in /workspace/.pyenv_mirror/user/current/lib/python3.12/site-packages (from pandas->lazypredict) (2024.1)\n",
                        "Requirement already satisfied: tzdata>=2022.7 in /workspace/.pyenv_mirror/user/current/lib/python3.12/site-packages (from pandas->lazypredict) (2024.1)\n",
                        "Requirement already satisfied: threadpoolctl>=3.1.0 in /workspace/.pyenv_mirror/user/current/lib/python3.12/site-packages (from scikit-learn->lazypredict) (3.5.0)\n",
                        "Requirement already satisfied: nvidia-nccl-cu12 in /workspace/.pyenv_mirror/user/current/lib/python3.12/site-packages (from xgboost->lazypredict) (2.22.3)\n",
                        "Requirement already satisfied: six>=1.5 in /home/gitpod/.pyenv/versions/3.12.4/lib/python3.12/site-packages (from python-dateutil>=2.7->matplotlib->missingno) (1.16.0)\n",
                        "Requirement already satisfied: statsmodels in /home/gitpod/.pyenv/versions/3.12.4/lib/python3.12/site-packages (0.14.2)\n",
                        "Requirement already satisfied: numpy>=1.22.3 in /workspace/.pyenv_mirror/user/current/lib/python3.12/site-packages (from statsmodels) (2.1.0)\n",
                        "Requirement already satisfied: scipy!=1.9.2,>=1.8 in /workspace/.pyenv_mirror/user/current/lib/python3.12/site-packages (from statsmodels) (1.14.1)\n",
                        "Requirement already satisfied: pandas!=2.1.0,>=1.4 in /workspace/.pyenv_mirror/user/current/lib/python3.12/site-packages (from statsmodels) (2.2.2)\n",
                        "Requirement already satisfied: patsy>=0.5.6 in /home/gitpod/.pyenv/versions/3.12.4/lib/python3.12/site-packages (from statsmodels) (0.5.6)\n",
                        "Requirement already satisfied: packaging>=21.3 in /home/gitpod/.pyenv/versions/3.12.4/lib/python3.12/site-packages (from statsmodels) (24.1)\n",
                        "Requirement already satisfied: python-dateutil>=2.8.2 in /home/gitpod/.pyenv/versions/3.12.4/lib/python3.12/site-packages (from pandas!=2.1.0,>=1.4->statsmodels) (2.9.0.post0)\n",
                        "Requirement already satisfied: pytz>=2020.1 in /workspace/.pyenv_mirror/user/current/lib/python3.12/site-packages (from pandas!=2.1.0,>=1.4->statsmodels) (2024.1)\n",
                        "Requirement already satisfied: tzdata>=2022.7 in /workspace/.pyenv_mirror/user/current/lib/python3.12/site-packages (from pandas!=2.1.0,>=1.4->statsmodels) (2024.1)\n",
                        "Requirement already satisfied: six in /home/gitpod/.pyenv/versions/3.12.4/lib/python3.12/site-packages (from patsy>=0.5.6->statsmodels) (1.16.0)\n"
                    ]
                }
            ],
            "source": [
                "!pip install missingno lazypredict\n",
                "!pip install statsmodels"
            ]
        },
        {
            "cell_type": "code",
            "execution_count": 71,
            "metadata": {},
            "outputs": [],
            "source": [
                "import pandas as pd\n",
                "import matplotlib.pyplot as plt\n",
                "import numpy as np\n",
                "import missingno as msno\n",
                "from sklearn.impute import KNNImputer\n",
                "import statsmodels.api as sm\n",
                "from sklearn.model_selection import train_test_split\n",
                "import xgboost as xgb\n",
                "from statsmodels.stats.outliers_influence import variance_inflation_factor\n",
                "from sklearn.preprocessing import LabelEncoder"
            ]
        },
        {
            "cell_type": "code",
            "execution_count": 72,
            "metadata": {},
            "outputs": [
                {
                    "name": "stdout",
                    "output_type": "stream",
                    "text": [
                        "   age     sex     bmi  children smoker     region      charges\n",
                        "0   19  female  27.900         0    yes  southwest  16884.92400\n",
                        "1   18    male  33.770         1     no  southeast   1725.55230\n",
                        "2   28    male  33.000         3     no  southeast   4449.46200\n",
                        "3   33    male  22.705         0     no  northwest  21984.47061\n",
                        "4   32    male  28.880         0     no  northwest   3866.85520\n"
                    ]
                }
            ],
            "source": [
                "#1) Descargo los datos de bank:\n",
                "\n",
                "#a) Leo los datos de la URL.\n",
                "url = \"https://raw.githubusercontent.com/4GeeksAcademy/linear-regression-project-tutorial/main/medical_insurance_cost.csv\"\n",
                "\n",
                "#b) Guardo los datos en un DataFrame.\n",
                "df = pd.read_csv(url, sep=',')\n",
                "\n",
                "#c) Miro las primeras filas del DF.\n",
                "print(df.head())"
            ]
        },
        {
            "cell_type": "code",
            "execution_count": 73,
            "metadata": {},
            "outputs": [
                {
                    "data": {
                        "text/html": [
                            "<div>\n",
                            "<style scoped>\n",
                            "    .dataframe tbody tr th:only-of-type {\n",
                            "        vertical-align: middle;\n",
                            "    }\n",
                            "\n",
                            "    .dataframe tbody tr th {\n",
                            "        vertical-align: top;\n",
                            "    }\n",
                            "\n",
                            "    .dataframe thead th {\n",
                            "        text-align: right;\n",
                            "    }\n",
                            "</style>\n",
                            "<table border=\"1\" class=\"dataframe\">\n",
                            "  <thead>\n",
                            "    <tr style=\"text-align: right;\">\n",
                            "      <th></th>\n",
                            "      <th>age</th>\n",
                            "      <th>sex</th>\n",
                            "      <th>bmi</th>\n",
                            "      <th>children</th>\n",
                            "      <th>smoker</th>\n",
                            "      <th>region</th>\n",
                            "      <th>charges</th>\n",
                            "    </tr>\n",
                            "  </thead>\n",
                            "  <tbody>\n",
                            "    <tr>\n",
                            "      <th>1333</th>\n",
                            "      <td>50</td>\n",
                            "      <td>male</td>\n",
                            "      <td>30.97</td>\n",
                            "      <td>3</td>\n",
                            "      <td>no</td>\n",
                            "      <td>northwest</td>\n",
                            "      <td>10600.5483</td>\n",
                            "    </tr>\n",
                            "    <tr>\n",
                            "      <th>1334</th>\n",
                            "      <td>18</td>\n",
                            "      <td>female</td>\n",
                            "      <td>31.92</td>\n",
                            "      <td>0</td>\n",
                            "      <td>no</td>\n",
                            "      <td>northeast</td>\n",
                            "      <td>2205.9808</td>\n",
                            "    </tr>\n",
                            "    <tr>\n",
                            "      <th>1335</th>\n",
                            "      <td>18</td>\n",
                            "      <td>female</td>\n",
                            "      <td>36.85</td>\n",
                            "      <td>0</td>\n",
                            "      <td>no</td>\n",
                            "      <td>southeast</td>\n",
                            "      <td>1629.8335</td>\n",
                            "    </tr>\n",
                            "    <tr>\n",
                            "      <th>1336</th>\n",
                            "      <td>21</td>\n",
                            "      <td>female</td>\n",
                            "      <td>25.80</td>\n",
                            "      <td>0</td>\n",
                            "      <td>no</td>\n",
                            "      <td>southwest</td>\n",
                            "      <td>2007.9450</td>\n",
                            "    </tr>\n",
                            "    <tr>\n",
                            "      <th>1337</th>\n",
                            "      <td>61</td>\n",
                            "      <td>female</td>\n",
                            "      <td>29.07</td>\n",
                            "      <td>0</td>\n",
                            "      <td>yes</td>\n",
                            "      <td>northwest</td>\n",
                            "      <td>29141.3603</td>\n",
                            "    </tr>\n",
                            "  </tbody>\n",
                            "</table>\n",
                            "</div>"
                        ],
                        "text/plain": [
                            "      age     sex    bmi  children smoker     region     charges\n",
                            "1333   50    male  30.97         3     no  northwest  10600.5483\n",
                            "1334   18  female  31.92         0     no  northeast   2205.9808\n",
                            "1335   18  female  36.85         0     no  southeast   1629.8335\n",
                            "1336   21  female  25.80         0     no  southwest   2007.9450\n",
                            "1337   61  female  29.07         0    yes  northwest  29141.3603"
                        ]
                    },
                    "execution_count": 73,
                    "metadata": {},
                    "output_type": "execute_result"
                }
            ],
            "source": [
                "# Guardo el DataFrame.\n",
                "df.to_csv('/workspace/Proyecto15_albaebauluz/data/raw/medical.csv', index=False)\n",
                "#Configuro la biblioteca de Pandas en Python para controlar cómo se muestra el DF cuando los visualizo en un entorno interactivo (Jupyter Notebook). Nota: \"None\" sirve para que pandas muestre el total de las columnas aunque sean muchas. \n",
                "pd.set_option('display.max_columns', None)\n",
                "\n",
                "df.head()\n",
                "df.tail()"
            ]
        },
        {
            "cell_type": "code",
            "execution_count": 74,
            "metadata": {},
            "outputs": [
                {
                    "name": "stdout",
                    "output_type": "stream",
                    "text": [
                        "<class 'pandas.core.frame.DataFrame'>\n",
                        "RangeIndex: 1338 entries, 0 to 1337\n",
                        "Data columns (total 7 columns):\n",
                        " #   Column    Non-Null Count  Dtype  \n",
                        "---  ------    --------------  -----  \n",
                        " 0   age       1338 non-null   int64  \n",
                        " 1   sex       1338 non-null   object \n",
                        " 2   bmi       1338 non-null   float64\n",
                        " 3   children  1338 non-null   int64  \n",
                        " 4   smoker    1338 non-null   object \n",
                        " 5   region    1338 non-null   object \n",
                        " 6   charges   1338 non-null   float64\n",
                        "dtypes: float64(2), int64(2), object(3)\n",
                        "memory usage: 73.3+ KB\n"
                    ]
                }
            ],
            "source": [
                "# Tamaño de la muestra.\n",
                "df.shape   \n",
                "\n",
                "# Información de los datos.\n",
                "df.info()"
            ]
        },
        {
            "cell_type": "code",
            "execution_count": 75,
            "metadata": {},
            "outputs": [
                {
                    "data": {
                        "text/plain": [
                            "np.int64(1)"
                        ]
                    },
                    "execution_count": 75,
                    "metadata": {},
                    "output_type": "execute_result"
                }
            ],
            "source": [
                "# Compruebo se hay valores duplicados. \n",
                "df.duplicated().sum()"
            ]
        },
        {
            "cell_type": "code",
            "execution_count": 76,
            "metadata": {},
            "outputs": [
                {
                    "name": "stdout",
                    "output_type": "stream",
                    "text": [
                        "(array([581]),)\n"
                    ]
                }
            ],
            "source": [
                "# Muestro los id de los valores duplicados.\n",
                "duplicados=np.where(df.duplicated())\n",
                "print(duplicados)"
            ]
        },
        {
            "cell_type": "code",
            "execution_count": 77,
            "metadata": {},
            "outputs": [
                {
                    "data": {
                        "text/html": [
                            "<div>\n",
                            "<style scoped>\n",
                            "    .dataframe tbody tr th:only-of-type {\n",
                            "        vertical-align: middle;\n",
                            "    }\n",
                            "\n",
                            "    .dataframe tbody tr th {\n",
                            "        vertical-align: top;\n",
                            "    }\n",
                            "\n",
                            "    .dataframe thead th {\n",
                            "        text-align: right;\n",
                            "    }\n",
                            "</style>\n",
                            "<table border=\"1\" class=\"dataframe\">\n",
                            "  <thead>\n",
                            "    <tr style=\"text-align: right;\">\n",
                            "      <th></th>\n",
                            "      <th>age</th>\n",
                            "      <th>sex</th>\n",
                            "      <th>bmi</th>\n",
                            "      <th>children</th>\n",
                            "      <th>smoker</th>\n",
                            "      <th>region</th>\n",
                            "      <th>charges</th>\n",
                            "    </tr>\n",
                            "  </thead>\n",
                            "  <tbody>\n",
                            "    <tr>\n",
                            "      <th>581</th>\n",
                            "      <td>19</td>\n",
                            "      <td>male</td>\n",
                            "      <td>30.59</td>\n",
                            "      <td>0</td>\n",
                            "      <td>no</td>\n",
                            "      <td>northwest</td>\n",
                            "      <td>1639.5631</td>\n",
                            "    </tr>\n",
                            "  </tbody>\n",
                            "</table>\n",
                            "</div>"
                        ],
                        "text/plain": [
                            "     age   sex    bmi  children smoker     region    charges\n",
                            "581   19  male  30.59         0     no  northwest  1639.5631"
                        ]
                    },
                    "execution_count": 77,
                    "metadata": {},
                    "output_type": "execute_result"
                }
            ],
            "source": [
                "# Visualizo la información de los id duplicados.\n",
                "df.iloc[duplicados]"
            ]
        },
        {
            "cell_type": "code",
            "execution_count": 78,
            "metadata": {},
            "outputs": [],
            "source": [
                "# Elimino los 12 id duplicados. Nota: \"inplace=True\" indica que los elimine de la BD original.\n",
                "df.drop_duplicates(inplace=True)"
            ]
        },
        {
            "cell_type": "code",
            "execution_count": 79,
            "metadata": {},
            "outputs": [
                {
                    "data": {
                        "text/plain": [
                            "np.int64(0)"
                        ]
                    },
                    "execution_count": 79,
                    "metadata": {},
                    "output_type": "execute_result"
                }
            ],
            "source": [
                "# Compruebo se hay valores duplicados. \n",
                "df.duplicated().sum()"
            ]
        },
        {
            "cell_type": "code",
            "execution_count": 80,
            "metadata": {},
            "outputs": [
                {
                    "data": {
                        "text/html": [
                            "<div>\n",
                            "<style scoped>\n",
                            "    .dataframe tbody tr th:only-of-type {\n",
                            "        vertical-align: middle;\n",
                            "    }\n",
                            "\n",
                            "    .dataframe tbody tr th {\n",
                            "        vertical-align: top;\n",
                            "    }\n",
                            "\n",
                            "    .dataframe thead th {\n",
                            "        text-align: right;\n",
                            "    }\n",
                            "</style>\n",
                            "<table border=\"1\" class=\"dataframe\">\n",
                            "  <thead>\n",
                            "    <tr style=\"text-align: right;\">\n",
                            "      <th></th>\n",
                            "      <th>count</th>\n",
                            "      <th>mean</th>\n",
                            "      <th>std</th>\n",
                            "      <th>min</th>\n",
                            "      <th>25%</th>\n",
                            "      <th>50%</th>\n",
                            "      <th>75%</th>\n",
                            "      <th>max</th>\n",
                            "    </tr>\n",
                            "  </thead>\n",
                            "  <tbody>\n",
                            "    <tr>\n",
                            "      <th>age</th>\n",
                            "      <td>1337.0</td>\n",
                            "      <td>39.222139</td>\n",
                            "      <td>14.044333</td>\n",
                            "      <td>18.0000</td>\n",
                            "      <td>27.000</td>\n",
                            "      <td>39.0000</td>\n",
                            "      <td>51.00000</td>\n",
                            "      <td>64.00000</td>\n",
                            "    </tr>\n",
                            "    <tr>\n",
                            "      <th>bmi</th>\n",
                            "      <td>1337.0</td>\n",
                            "      <td>30.663452</td>\n",
                            "      <td>6.100468</td>\n",
                            "      <td>15.9600</td>\n",
                            "      <td>26.290</td>\n",
                            "      <td>30.4000</td>\n",
                            "      <td>34.70000</td>\n",
                            "      <td>53.13000</td>\n",
                            "    </tr>\n",
                            "    <tr>\n",
                            "      <th>children</th>\n",
                            "      <td>1337.0</td>\n",
                            "      <td>1.095737</td>\n",
                            "      <td>1.205571</td>\n",
                            "      <td>0.0000</td>\n",
                            "      <td>0.000</td>\n",
                            "      <td>1.0000</td>\n",
                            "      <td>2.00000</td>\n",
                            "      <td>5.00000</td>\n",
                            "    </tr>\n",
                            "    <tr>\n",
                            "      <th>charges</th>\n",
                            "      <td>1337.0</td>\n",
                            "      <td>13279.121487</td>\n",
                            "      <td>12110.359656</td>\n",
                            "      <td>1121.8739</td>\n",
                            "      <td>4746.344</td>\n",
                            "      <td>9386.1613</td>\n",
                            "      <td>16657.71745</td>\n",
                            "      <td>63770.42801</td>\n",
                            "    </tr>\n",
                            "  </tbody>\n",
                            "</table>\n",
                            "</div>"
                        ],
                        "text/plain": [
                            "           count          mean           std        min       25%        50%  \\\n",
                            "age       1337.0     39.222139     14.044333    18.0000    27.000    39.0000   \n",
                            "bmi       1337.0     30.663452      6.100468    15.9600    26.290    30.4000   \n",
                            "children  1337.0      1.095737      1.205571     0.0000     0.000     1.0000   \n",
                            "charges   1337.0  13279.121487  12110.359656  1121.8739  4746.344  9386.1613   \n",
                            "\n",
                            "                  75%          max  \n",
                            "age          51.00000     64.00000  \n",
                            "bmi          34.70000     53.13000  \n",
                            "children      2.00000      5.00000  \n",
                            "charges   16657.71745  63770.42801  "
                        ]
                    },
                    "execution_count": 80,
                    "metadata": {},
                    "output_type": "execute_result"
                }
            ],
            "source": [
                "# Análisis descriptivo de la muestra.\n",
                "df.describe().T"
            ]
        },
        {
            "cell_type": "code",
            "execution_count": 81,
            "metadata": {},
            "outputs": [
                {
                    "data": {
                        "text/html": [
                            "<div>\n",
                            "<style scoped>\n",
                            "    .dataframe tbody tr th:only-of-type {\n",
                            "        vertical-align: middle;\n",
                            "    }\n",
                            "\n",
                            "    .dataframe tbody tr th {\n",
                            "        vertical-align: top;\n",
                            "    }\n",
                            "\n",
                            "    .dataframe thead th {\n",
                            "        text-align: right;\n",
                            "    }\n",
                            "</style>\n",
                            "<table border=\"1\" class=\"dataframe\">\n",
                            "  <thead>\n",
                            "    <tr style=\"text-align: right;\">\n",
                            "      <th></th>\n",
                            "      <th>age</th>\n",
                            "      <th>sex</th>\n",
                            "      <th>bmi</th>\n",
                            "      <th>children</th>\n",
                            "      <th>smoker</th>\n",
                            "      <th>region</th>\n",
                            "      <th>charges</th>\n",
                            "    </tr>\n",
                            "  </thead>\n",
                            "  <tbody>\n",
                            "    <tr>\n",
                            "      <th>0</th>\n",
                            "      <td>19</td>\n",
                            "      <td>0</td>\n",
                            "      <td>27.900</td>\n",
                            "      <td>0</td>\n",
                            "      <td>1</td>\n",
                            "      <td>southwest</td>\n",
                            "      <td>16884.92400</td>\n",
                            "    </tr>\n",
                            "    <tr>\n",
                            "      <th>1</th>\n",
                            "      <td>18</td>\n",
                            "      <td>1</td>\n",
                            "      <td>33.770</td>\n",
                            "      <td>1</td>\n",
                            "      <td>0</td>\n",
                            "      <td>southeast</td>\n",
                            "      <td>1725.55230</td>\n",
                            "    </tr>\n",
                            "    <tr>\n",
                            "      <th>2</th>\n",
                            "      <td>28</td>\n",
                            "      <td>1</td>\n",
                            "      <td>33.000</td>\n",
                            "      <td>3</td>\n",
                            "      <td>0</td>\n",
                            "      <td>southeast</td>\n",
                            "      <td>4449.46200</td>\n",
                            "    </tr>\n",
                            "    <tr>\n",
                            "      <th>3</th>\n",
                            "      <td>33</td>\n",
                            "      <td>1</td>\n",
                            "      <td>22.705</td>\n",
                            "      <td>0</td>\n",
                            "      <td>0</td>\n",
                            "      <td>northwest</td>\n",
                            "      <td>21984.47061</td>\n",
                            "    </tr>\n",
                            "    <tr>\n",
                            "      <th>4</th>\n",
                            "      <td>32</td>\n",
                            "      <td>1</td>\n",
                            "      <td>28.880</td>\n",
                            "      <td>0</td>\n",
                            "      <td>0</td>\n",
                            "      <td>northwest</td>\n",
                            "      <td>3866.85520</td>\n",
                            "    </tr>\n",
                            "  </tbody>\n",
                            "</table>\n",
                            "</div>"
                        ],
                        "text/plain": [
                            "   age  sex     bmi  children  smoker     region      charges\n",
                            "0   19    0  27.900         0       1  southwest  16884.92400\n",
                            "1   18    1  33.770         1       0  southeast   1725.55230\n",
                            "2   28    1  33.000         3       0  southeast   4449.46200\n",
                            "3   33    1  22.705         0       0  northwest  21984.47061\n",
                            "4   32    1  28.880         0       0  northwest   3866.85520"
                        ]
                    },
                    "execution_count": 81,
                    "metadata": {},
                    "output_type": "execute_result"
                }
            ],
            "source": [
                "\n",
                "#1) Creo una instancia de LabelEncoder.\n",
                "le= LabelEncoder()\n",
                "\n",
                "#2) Codifico las columnas categóricas no binarias.\n",
                "#df[\"region\"]= le.fit_transform(df[\"region\"])\n",
                "df[\"sex\"]= le.fit_transform(df[\"sex\"])\n",
                "df[\"smoker\"]= le.fit_transform(df[\"smoker\"])\n",
                "\n",
                "df.head()\n"
            ]
        },
        {
            "cell_type": "code",
            "execution_count": 82,
            "metadata": {},
            "outputs": [
                {
                    "name": "stdout",
                    "output_type": "stream",
                    "text": [
                        "   age  sex     bmi  children  smoker     region      charges  \\\n",
                        "0   19    0  27.900         0       1  southwest  16884.92400   \n",
                        "1   18    1  33.770         1       0  southeast   1725.55230   \n",
                        "2   28    1  33.000         3       0  southeast   4449.46200   \n",
                        "3   33    1  22.705         0       0  northwest  21984.47061   \n",
                        "4   32    1  28.880         0       0  northwest   3866.85520   \n",
                        "\n",
                        "   region_northeast  region_northwest  region_southeast  region_southwest  \n",
                        "0             False             False             False              True  \n",
                        "1             False             False              True             False  \n",
                        "2             False             False              True             False  \n",
                        "3             False              True             False             False  \n",
                        "4             False              True             False             False  \n"
                    ]
                }
            ],
            "source": [
                "# Crear dummy para las cuatro regiones.\n",
                "#noreste, sureste, suroeste, noroeste\n",
                "\n",
                "# Crear variables dummy para cada categoría en 'region'\n",
                "df_dummies = pd.get_dummies(df['region'], prefix='region')\n",
                "\n",
                "# Unir las nuevas columnas dummy al DataFrame original\n",
                "df = pd.concat([df, df_dummies], axis=1)\n",
                "\n",
                "# Visualizar el DataFrame con las nuevas variables dummy\n",
                "print(df.head())"
            ]
        },
        {
            "cell_type": "code",
            "execution_count": 84,
            "metadata": {},
            "outputs": [
                {
                    "name": "stdout",
                    "output_type": "stream",
                    "text": [
                        "   age  sex     bmi  children  smoker     region      charges  \\\n",
                        "0   19    0  27.900         0       1  southwest  16884.92400   \n",
                        "1   18    1  33.770         1       0  southeast   1725.55230   \n",
                        "2   28    1  33.000         3       0  southeast   4449.46200   \n",
                        "3   33    1  22.705         0       0  northwest  21984.47061   \n",
                        "4   32    1  28.880         0       0  northwest   3866.85520   \n",
                        "\n",
                        "   region_northeast  region_northwest  region_southeast  region_southwest  \n",
                        "0                 0                 0                 0                 1  \n",
                        "1                 0                 0                 1                 0  \n",
                        "2                 0                 0                 1                 0  \n",
                        "3                 0                 1                 0                 0  \n",
                        "4                 0                 1                 0                 0  \n"
                    ]
                }
            ],
            "source": [
                "df['region_northeast']=df['region_northeast'].astype(int)\n",
                "df['region_northwest']=df['region_northwest'].astype(int)\n",
                "df['region_southeast']=df['region_southeast'].astype(int)\n",
                "df['region_southwest']=df['region_southwest'].astype(int)\n",
                "\n",
                "print(df.head())"
            ]
        },
        {
            "cell_type": "code",
            "execution_count": 85,
            "metadata": {},
            "outputs": [
                {
                    "name": "stdout",
                    "output_type": "stream",
                    "text": [
                        "                            OLS Regression Results                            \n",
                        "==============================================================================\n",
                        "Dep. Variable:                charges   R-squared:                       0.751\n",
                        "Model:                            OLS   Adj. R-squared:                  0.749\n",
                        "Method:                 Least Squares   F-statistic:                     500.0\n",
                        "Date:                Wed, 21 Aug 2024   Prob (F-statistic):               0.00\n",
                        "Time:                        19:19:19   Log-Likelihood:                -13538.\n",
                        "No. Observations:                1337   AIC:                         2.709e+04\n",
                        "Df Residuals:                    1328   BIC:                         2.714e+04\n",
                        "Df Model:                           8                                         \n",
                        "Covariance Type:            nonrobust                                         \n",
                        "====================================================================================\n",
                        "                       coef    std err          t      P>|t|      [0.025      0.975]\n",
                        "------------------------------------------------------------------------------------\n",
                        "const            -1.194e+04    988.227    -12.079      0.000   -1.39e+04   -9997.900\n",
                        "age                256.7646     11.912     21.555      0.000     233.396     280.133\n",
                        "sex               -129.4815    333.195     -0.389      0.698    -783.128     524.165\n",
                        "bmi                339.2504     28.611     11.857      0.000     283.122     395.379\n",
                        "children           474.8205    137.897      3.443      0.001     204.301     745.340\n",
                        "smoker            2.385e+04    413.348     57.693      0.000     2.3e+04    2.47e+04\n",
                        "region_northwest  -349.2265    476.824     -0.732      0.464   -1284.637     586.183\n",
                        "region_southeast -1035.2656    478.867     -2.162      0.031   -1974.684     -95.847\n",
                        "region_southwest  -960.0814    478.106     -2.008      0.045   -1898.007     -22.156\n",
                        "==============================================================================\n",
                        "Omnibus:                      299.816   Durbin-Watson:                   2.089\n",
                        "Prob(Omnibus):                  0.000   Jarque-Bera (JB):              716.552\n",
                        "Skew:                           1.211   Prob(JB):                    2.53e-156\n",
                        "Kurtosis:                       5.646   Cond. No.                         311.\n",
                        "==============================================================================\n",
                        "\n",
                        "Notes:\n",
                        "[1] Standard Errors assume that the covariance matrix of the errors is correctly specified.\n"
                    ]
                }
            ],
            "source": [
                "X = df.drop(['charges', 'region', 'region_northeast'], axis=1)\n",
                "y = df['charges']\n",
                "X = sm.add_constant(X)\n",
                "model = sm.OLS(y, X)\n",
                "results = model.fit()\n",
                "print(results.summary())"
            ]
        },
        {
            "cell_type": "markdown",
            "metadata": {},
            "source": [
                "En primer lugar, modelo especificado explica el 75% de la variabilidad del coste del seguro médico.\n",
                "Los coeficientes de las variables explicativas indican que todas son significativas excepto el sexto.\n",
                "Si la edad se incrementa en un año, el coste del seguro médico se incrementa, en promedio, en 257.2$.\n",
                "Si el índice de masa corporal (bmi) se incrementa en una unidad, el coste del seguro médico se incrementa, en promedio, en 332.6$.\n",
                "Tener un hijo adicional incrementa el coste del seguro médico se incrementa, en promedio, en 478.8$.\n",
                "Fumar incrementa el coste del seguro médico, en promedio, en 23820$.\n",
                "Si la edad se incrementa en un año, el coste del seguro médico se incrementa, en promedio, en 257.2$.\n",
                "Una persona que vivie en la región northwest tiene un coste del seguro médico de 349.2$ menos que una persona que vive en la región region_northeast (categoría de referencia).\n",
                "Una persona que vivie en la región southeast tiene un coste del seguro médico de 1035.3$ menos que una persona que vive en la región region_northeast (categoría de referencia).\n",
                "Una persona que vivie en la región southwest tiene un coste del seguro médico de 960.1$ menos que una persona que vive en la región region_northeast (categoría de referencia).\n"
            ]
        }
    ],
    "metadata": {
        "kernelspec": {
            "display_name": "Python 3.8.13 64-bit ('3.8.13')",
            "language": "python",
            "name": "python3"
        },
        "language_info": {
            "codemirror_mode": {
                "name": "ipython",
                "version": 3
            },
            "file_extension": ".py",
            "mimetype": "text/x-python",
            "name": "python",
            "nbconvert_exporter": "python",
            "pygments_lexer": "ipython3",
            "version": "3.12.4"
        },
        "orig_nbformat": 4,
        "vscode": {
            "interpreter": {
                "hash": "110cc1dee26208153f2972f08a2ad52b6a56238dc66d48e87fb757ef2996db56"
            }
        }
    },
    "nbformat": 4,
    "nbformat_minor": 2
}
